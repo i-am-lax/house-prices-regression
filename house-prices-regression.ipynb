{
 "cells": [
  {
   "cell_type": "markdown",
   "metadata": {},
   "source": [
    "# Predict House Prices in Ames, Iowa - Regression Task"
   ]
  },
  {
   "cell_type": "markdown",
   "metadata": {},
   "source": [
    "**Imports**"
   ]
  },
  {
   "cell_type": "code",
   "execution_count": 1,
   "metadata": {},
   "outputs": [
    {
     "name": "stdout",
     "output_type": "stream",
     "text": [
      "2.1.0\n"
     ]
    },
    {
     "name": "stderr",
     "output_type": "stream",
     "text": [
      "Using TensorFlow backend.\n"
     ]
    }
   ],
   "source": [
    "import os\n",
    "import pickle\n",
    "\n",
    "import numpy as np\n",
    "import pandas as pd\n",
    "import pandas_profiling as pp\n",
    "\n",
    "import matplotlib.pyplot as plt\n",
    "\n",
    "from sklearn.preprocessing import MinMaxScaler\n",
    "from sklearn.ensemble import RandomForestRegressor\n",
    "from sklearn.metrics import r2_score, mean_squared_error, mean_absolute_error\n",
    "\n",
    "import tensorflow as tf\n",
    "from tensorflow import keras\n",
    "from keras.preprocessing.text import Tokenizer\n",
    "from keras.preprocessing.sequence import pad_sequences\n",
    "from tensorflow.keras import Model\n",
    "from tensorflow.keras.layers import Input, Embedding, Flatten, Concatenate, Dense, Dropout\n",
    "from tensorflow.keras.optimizers import Adam\n",
    "\n",
    "print(tf.__version__)"
   ]
  },
  {
   "cell_type": "markdown",
   "metadata": {},
   "source": [
    "**Global variables**"
   ]
  },
  {
   "cell_type": "code",
   "execution_count": 2,
   "metadata": {},
   "outputs": [],
   "source": [
    "RANDOM_SEED = 42\n",
    "\n",
    "DATA_PATH = 'data'\n",
    "MODEL_PATH = 'artifacts'\n",
    "\n",
    "MAP_PATH = os.path.join(MODEL_PATH, 'feature_maps.pkl')\n",
    "SCALER_PATH = os.path.join(MODEL_PATH, 'scaler.pkl')\n",
    "TOKENIZER_PATH = os.path.join(MODEL_PATH, 'tokenizer.pkl')\n",
    "KERAS_PATH = os.path.join(MODEL_PATH, 'model')\n",
    "PREDICTION_PATH = os.path.join(MODEL_PATH, 'predictions.pkl')\n",
    "\n",
    "LABEL = 'SalePrice'\n",
    "EMB_TEXT = 'emb_text'"
   ]
  },
  {
   "cell_type": "markdown",
   "metadata": {},
   "source": [
    "**Useful functions**"
   ]
  },
  {
   "cell_type": "code",
   "execution_count": 3,
   "metadata": {},
   "outputs": [],
   "source": [
    "def pickle_dump(path, obj):\n",
    "    with open(path, 'wb') as p:\n",
    "        pickle.dump(obj, p)\n",
    "        \n",
    "def pickle_load(path):\n",
    "    obj = pickle.load(open(path, 'rb'))\n",
    "    return obj"
   ]
  },
  {
   "cell_type": "markdown",
   "metadata": {},
   "source": [
    "## Data ingestion\n",
    "\n",
    "* `train` - (1460 rows, 81 columns) - used for training and evaluating model\n",
    "* `test` - (1459 rows, 80 columns) - predictions should be generated for this dataset\n",
    "\n",
    "\n",
    "**Features:**\n",
    "* SalePrice - the property's sale price in dollars. This is the target variable that you're trying to predict.\n",
    "* MSSubClass: The building class\n",
    "* MSZoning: The general zoning classification\n",
    "* LotFrontage: Linear feet of street connected to property\n",
    "* LotArea: Lot size in square feet\n",
    "* Street: Type of road access\n",
    "* Alley: Type of alley access\n",
    "* LotShape: General shape of property\n",
    "* LandContour: Flatness of the property\n",
    "* Utilities: Type of utilities available\n",
    "* LotConfig: Lot configuration\n",
    "* LandSlope: Slope of property\n",
    "* Neighborhood: Physical locations within Ames city limits\n",
    "* Condition1: Proximity to main road or railroad\n",
    "* Condition2: Proximity to main road or railroad (if a second is present)\n",
    "* BldgType: Type of dwelling\n",
    "* HouseStyle: Style of dwelling\n",
    "* OverallQual: Overall material and finish quality\n",
    "* OverallCond: Overall condition rating\n",
    "* YearBuilt: Original construction date\n",
    "* YearRemodAdd: Remodel date\n",
    "* RoofStyle: Type of roof\n",
    "* RoofMatl: Roof material\n",
    "* Exterior1st: Exterior covering on house\n",
    "* Exterior2nd: Exterior covering on house (if more than one material)\n",
    "* MasVnrType: Masonry veneer type\n",
    "* MasVnrArea: Masonry veneer area in square feet\n",
    "* ExterQual: Exterior material quality\n",
    "* ExterCond: Present condition of the material on the exterior\n",
    "* Foundation: Type of foundation\n",
    "* BsmtQual: Height of the basement\n",
    "* BsmtCond: General condition of the basement\n",
    "* BsmtExposure: Walkout or garden level basement walls\n",
    "* BsmtFinType1: Quality of basement finished area\n",
    "* BsmtFinSF1: Type 1 finished square feet\n",
    "* BsmtFinType2: Quality of second finished area (if present)\n",
    "* BsmtFinSF2: Type 2 finished square feet\n",
    "* BsmtUnfSF: Unfinished square feet of basement area\n",
    "* TotalBsmtSF: Total square feet of basement area\n",
    "* Heating: Type of heating\n",
    "* HeatingQC: Heating quality and condition\n",
    "* CentralAir: Central air conditioning\n",
    "* Electrical: Electrical system\n",
    "* 1stFlrSF: First Floor square feet\n",
    "* 2ndFlrSF: Second floor square feet\n",
    "* LowQualFinSF: Low quality finished square feet (all floors)\n",
    "* GrLivArea: Above grade (ground) living area square feet\n",
    "* BsmtFullBath: Basement full bathrooms\n",
    "* BsmtHalfBath: Basement half bathrooms\n",
    "* FullBath: Full bathrooms above grade\n",
    "* HalfBath: Half baths above grade\n",
    "* BedroomAbvGr: Number of bedrooms above basement level\n",
    "* KitchenAbvGr: Number of kitchens\n",
    "* KitchenQual: Kitchen quality\n",
    "* TotRmsAbvGrd: Total rooms above grade (does not include bathrooms)\n",
    "* Functional: Home functionality rating\n",
    "* Fireplaces: Number of fireplaces\n",
    "* FireplaceQu: Fireplace quality\n",
    "* GarageType: Garage location\n",
    "* GarageYrBlt: Year garage was built\n",
    "* GarageFinish: Interior finish of the garage\n",
    "* GarageCars: Size of garage in car capacity\n",
    "* GarageArea: Size of garage in square feet\n",
    "* GarageQual: Garage quality\n",
    "* GarageCond: Garage condition\n",
    "* PavedDrive: Paved driveway\n",
    "* WoodDeckSF: Wood deck area in square feet\n",
    "* OpenPorchSF: Open porch area in square feet\n",
    "* EnclosedPorch: Enclosed porch area in square feet\n",
    "* 3SsnPorch: Three season porch area in square feet\n",
    "* ScreenPorch: Screen porch area in square feet\n",
    "* PoolArea: Pool area in square feet\n",
    "* PoolQC: Pool quality\n",
    "* Fence: Fence quality\n",
    "* MiscFeature: Miscellaneous feature not covered in other categories\n",
    "* MiscVal: $Value of miscellaneous feature\n",
    "* MoSold: Month Sold\n",
    "* YrSold: Year Sold\n",
    "* SaleType: Type of sale\n",
    "* SaleCondition: Condition of sale"
   ]
  },
  {
   "cell_type": "code",
   "execution_count": 4,
   "metadata": {},
   "outputs": [],
   "source": [
    "data = pd.read_csv(os.path.join(DATA_PATH, 'train.csv'), header=0)"
   ]
  },
  {
   "cell_type": "code",
   "execution_count": 5,
   "metadata": {},
   "outputs": [
    {
     "data": {
      "text/html": [
       "<div>\n",
       "<style scoped>\n",
       "    .dataframe tbody tr th:only-of-type {\n",
       "        vertical-align: middle;\n",
       "    }\n",
       "\n",
       "    .dataframe tbody tr th {\n",
       "        vertical-align: top;\n",
       "    }\n",
       "\n",
       "    .dataframe thead th {\n",
       "        text-align: right;\n",
       "    }\n",
       "</style>\n",
       "<table border=\"1\" class=\"dataframe\">\n",
       "  <thead>\n",
       "    <tr style=\"text-align: right;\">\n",
       "      <th></th>\n",
       "      <th>Id</th>\n",
       "      <th>MSSubClass</th>\n",
       "      <th>MSZoning</th>\n",
       "      <th>LotFrontage</th>\n",
       "      <th>LotArea</th>\n",
       "      <th>Street</th>\n",
       "      <th>Alley</th>\n",
       "      <th>LotShape</th>\n",
       "      <th>LandContour</th>\n",
       "      <th>Utilities</th>\n",
       "      <th>...</th>\n",
       "      <th>PoolArea</th>\n",
       "      <th>PoolQC</th>\n",
       "      <th>Fence</th>\n",
       "      <th>MiscFeature</th>\n",
       "      <th>MiscVal</th>\n",
       "      <th>MoSold</th>\n",
       "      <th>YrSold</th>\n",
       "      <th>SaleType</th>\n",
       "      <th>SaleCondition</th>\n",
       "      <th>SalePrice</th>\n",
       "    </tr>\n",
       "  </thead>\n",
       "  <tbody>\n",
       "    <tr>\n",
       "      <th>0</th>\n",
       "      <td>1</td>\n",
       "      <td>60</td>\n",
       "      <td>RL</td>\n",
       "      <td>65.0</td>\n",
       "      <td>8450</td>\n",
       "      <td>Pave</td>\n",
       "      <td>NaN</td>\n",
       "      <td>Reg</td>\n",
       "      <td>Lvl</td>\n",
       "      <td>AllPub</td>\n",
       "      <td>...</td>\n",
       "      <td>0</td>\n",
       "      <td>NaN</td>\n",
       "      <td>NaN</td>\n",
       "      <td>NaN</td>\n",
       "      <td>0</td>\n",
       "      <td>2</td>\n",
       "      <td>2008</td>\n",
       "      <td>WD</td>\n",
       "      <td>Normal</td>\n",
       "      <td>208500</td>\n",
       "    </tr>\n",
       "  </tbody>\n",
       "</table>\n",
       "<p>1 rows × 81 columns</p>\n",
       "</div>"
      ],
      "text/plain": [
       "   Id  MSSubClass MSZoning  LotFrontage  LotArea Street Alley LotShape  \\\n",
       "0   1          60       RL         65.0     8450   Pave   NaN      Reg   \n",
       "\n",
       "  LandContour Utilities  ... PoolArea PoolQC Fence MiscFeature MiscVal MoSold  \\\n",
       "0         Lvl    AllPub  ...        0    NaN   NaN         NaN       0      2   \n",
       "\n",
       "  YrSold  SaleType  SaleCondition  SalePrice  \n",
       "0   2008        WD         Normal     208500  \n",
       "\n",
       "[1 rows x 81 columns]"
      ]
     },
     "execution_count": 5,
     "metadata": {},
     "output_type": "execute_result"
    }
   ],
   "source": [
    "data.head(1)"
   ]
  },
  {
   "cell_type": "code",
   "execution_count": 6,
   "metadata": {},
   "outputs": [
    {
     "data": {
      "text/plain": [
       "array(['Id', 'MSSubClass', 'MSZoning', 'LotFrontage', 'LotArea', 'Street',\n",
       "       'Alley', 'LotShape', 'LandContour', 'Utilities', 'LotConfig',\n",
       "       'LandSlope', 'Neighborhood', 'Condition1', 'Condition2',\n",
       "       'BldgType', 'HouseStyle', 'OverallQual', 'OverallCond',\n",
       "       'YearBuilt', 'YearRemodAdd', 'RoofStyle', 'RoofMatl',\n",
       "       'Exterior1st', 'Exterior2nd', 'MasVnrType', 'MasVnrArea',\n",
       "       'ExterQual', 'ExterCond', 'Foundation', 'BsmtQual', 'BsmtCond',\n",
       "       'BsmtExposure', 'BsmtFinType1', 'BsmtFinSF1', 'BsmtFinType2',\n",
       "       'BsmtFinSF2', 'BsmtUnfSF', 'TotalBsmtSF', 'Heating', 'HeatingQC',\n",
       "       'CentralAir', 'Electrical', '1stFlrSF', '2ndFlrSF', 'LowQualFinSF',\n",
       "       'GrLivArea', 'BsmtFullBath', 'BsmtHalfBath', 'FullBath',\n",
       "       'HalfBath', 'BedroomAbvGr', 'KitchenAbvGr', 'KitchenQual',\n",
       "       'TotRmsAbvGrd', 'Functional', 'Fireplaces', 'FireplaceQu',\n",
       "       'GarageType', 'GarageYrBlt', 'GarageFinish', 'GarageCars',\n",
       "       'GarageArea', 'GarageQual', 'GarageCond', 'PavedDrive',\n",
       "       'WoodDeckSF', 'OpenPorchSF', 'EnclosedPorch', '3SsnPorch',\n",
       "       'ScreenPorch', 'PoolArea', 'PoolQC', 'Fence', 'MiscFeature',\n",
       "       'MiscVal', 'MoSold', 'YrSold', 'SaleType', 'SaleCondition',\n",
       "       'SalePrice'], dtype=object)"
      ]
     },
     "execution_count": 6,
     "metadata": {},
     "output_type": "execute_result"
    }
   ],
   "source": [
    "data.columns.values"
   ]
  },
  {
   "cell_type": "markdown",
   "metadata": {},
   "source": [
    "## Analysis"
   ]
  },
  {
   "cell_type": "markdown",
   "metadata": {},
   "source": [
    "**Feature subset**\n",
    "\n",
    "For simplicity, let us consider a subset of features that make sense when it comes to house price prediction."
   ]
  },
  {
   "cell_type": "code",
   "execution_count": 7,
   "metadata": {},
   "outputs": [
    {
     "name": "stdout",
     "output_type": "stream",
     "text": [
      "The shape of the dataset after taking only a subset of features is 1460 rows and 35 columns.\n"
     ]
    }
   ],
   "source": [
    "feature_subset = [\n",
    "    'MSSubClass', 'LotFrontage', 'LotArea', 'LotShape', 'LandContour', 'LotConfig', 'Neighborhood', 'Condition1', 'BldgType', 'HouseStyle', 'OverallQual',\n",
    "    'YearBuilt', 'YearRemodAdd', 'Exterior1st', 'ExterQual', 'Foundation', 'HeatingQC', 'CentralAir', '1stFlrSF', '2ndFlrSF', 'FullBath', 'HalfBath', 'BedroomAbvGr',\n",
    "    'KitchenAbvGr', 'KitchenQual', 'TotRmsAbvGrd', 'Fireplaces', 'GarageArea', 'PavedDrive', 'PoolArea', 'YrSold', 'MoSold', 'SaleType', 'SaleCondition'\n",
    "]\n",
    "\n",
    "data = data[feature_subset + [LABEL]]\n",
    "\n",
    "print('The shape of the dataset after taking only a subset of features is {} rows and {} columns.'.format(*data.shape))"
   ]
  },
  {
   "cell_type": "markdown",
   "metadata": {},
   "source": [
    "**Drop duplicates.**"
   ]
  },
  {
   "cell_type": "code",
   "execution_count": 8,
   "metadata": {},
   "outputs": [
    {
     "name": "stdout",
     "output_type": "stream",
     "text": [
      "Number of rows before deduplicating: 1460\n",
      "Number of rows after deduplicating: 1460\n"
     ]
    }
   ],
   "source": [
    "print('Number of rows before deduplicating: {}'.format(data.shape[0]))\n",
    "data = data.drop_duplicates()\n",
    "print('Number of rows after deduplicating: {}'.format(data.shape[0]))"
   ]
  },
  {
   "cell_type": "markdown",
   "metadata": {},
   "source": [
    "**Missing values**"
   ]
  },
  {
   "cell_type": "code",
   "execution_count": 9,
   "metadata": {},
   "outputs": [
    {
     "data": {
      "text/plain": [
       "MSSubClass         0\n",
       "LotFrontage      259\n",
       "LotArea            0\n",
       "LotShape           0\n",
       "LandContour        0\n",
       "LotConfig          0\n",
       "Neighborhood       0\n",
       "Condition1         0\n",
       "BldgType           0\n",
       "HouseStyle         0\n",
       "OverallQual        0\n",
       "YearBuilt          0\n",
       "YearRemodAdd       0\n",
       "Exterior1st        0\n",
       "ExterQual          0\n",
       "Foundation         0\n",
       "HeatingQC          0\n",
       "CentralAir         0\n",
       "1stFlrSF           0\n",
       "2ndFlrSF           0\n",
       "FullBath           0\n",
       "HalfBath           0\n",
       "BedroomAbvGr       0\n",
       "KitchenAbvGr       0\n",
       "KitchenQual        0\n",
       "TotRmsAbvGrd       0\n",
       "Fireplaces         0\n",
       "GarageArea         0\n",
       "PavedDrive         0\n",
       "PoolArea           0\n",
       "YrSold             0\n",
       "MoSold             0\n",
       "SaleType           0\n",
       "SaleCondition      0\n",
       "SalePrice          0\n",
       "dtype: int64"
      ]
     },
     "execution_count": 9,
     "metadata": {},
     "output_type": "execute_result"
    }
   ],
   "source": [
    "data.isnull().sum()"
   ]
  },
  {
   "cell_type": "code",
   "execution_count": 10,
   "metadata": {},
   "outputs": [
    {
     "data": {
      "text/html": [
       "<div>\n",
       "<style scoped>\n",
       "    .dataframe tbody tr th:only-of-type {\n",
       "        vertical-align: middle;\n",
       "    }\n",
       "\n",
       "    .dataframe tbody tr th {\n",
       "        vertical-align: top;\n",
       "    }\n",
       "\n",
       "    .dataframe thead th {\n",
       "        text-align: right;\n",
       "    }\n",
       "</style>\n",
       "<table border=\"1\" class=\"dataframe\">\n",
       "  <thead>\n",
       "    <tr style=\"text-align: right;\">\n",
       "      <th></th>\n",
       "      <th>index</th>\n",
       "      <th>0</th>\n",
       "    </tr>\n",
       "  </thead>\n",
       "  <tbody>\n",
       "    <tr>\n",
       "      <th>1</th>\n",
       "      <td>LotFrontage</td>\n",
       "      <td>17.74</td>\n",
       "    </tr>\n",
       "    <tr>\n",
       "      <th>18</th>\n",
       "      <td>1stFlrSF</td>\n",
       "      <td>0.00</td>\n",
       "    </tr>\n",
       "    <tr>\n",
       "      <th>19</th>\n",
       "      <td>2ndFlrSF</td>\n",
       "      <td>0.00</td>\n",
       "    </tr>\n",
       "    <tr>\n",
       "      <th>20</th>\n",
       "      <td>FullBath</td>\n",
       "      <td>0.00</td>\n",
       "    </tr>\n",
       "    <tr>\n",
       "      <th>21</th>\n",
       "      <td>HalfBath</td>\n",
       "      <td>0.00</td>\n",
       "    </tr>\n",
       "    <tr>\n",
       "      <th>22</th>\n",
       "      <td>BedroomAbvGr</td>\n",
       "      <td>0.00</td>\n",
       "    </tr>\n",
       "    <tr>\n",
       "      <th>23</th>\n",
       "      <td>KitchenAbvGr</td>\n",
       "      <td>0.00</td>\n",
       "    </tr>\n",
       "    <tr>\n",
       "      <th>24</th>\n",
       "      <td>KitchenQual</td>\n",
       "      <td>0.00</td>\n",
       "    </tr>\n",
       "    <tr>\n",
       "      <th>25</th>\n",
       "      <td>TotRmsAbvGrd</td>\n",
       "      <td>0.00</td>\n",
       "    </tr>\n",
       "    <tr>\n",
       "      <th>0</th>\n",
       "      <td>MSSubClass</td>\n",
       "      <td>0.00</td>\n",
       "    </tr>\n",
       "  </tbody>\n",
       "</table>\n",
       "</div>"
      ],
      "text/plain": [
       "           index      0\n",
       "1    LotFrontage  17.74\n",
       "18      1stFlrSF   0.00\n",
       "19      2ndFlrSF   0.00\n",
       "20      FullBath   0.00\n",
       "21      HalfBath   0.00\n",
       "22  BedroomAbvGr   0.00\n",
       "23  KitchenAbvGr   0.00\n",
       "24   KitchenQual   0.00\n",
       "25  TotRmsAbvGrd   0.00\n",
       "0     MSSubClass   0.00"
      ]
     },
     "execution_count": 10,
     "metadata": {},
     "output_type": "execute_result"
    }
   ],
   "source": [
    "((data.isnull() | data.isnull()).sum() * 100 / data.index.size).round(2).reset_index().sort_values(by=0, ascending=False).head(10)"
   ]
  },
  {
   "cell_type": "markdown",
   "metadata": {},
   "source": [
    "**Pandas Profiling**\n",
    "\n",
    "Let's understand if there are features that can be discounted immediately based on statistical properties.\n",
    "\n",
    "Types:\n",
    "* Categorical - 19\n",
    "* Numerical - 14\n",
    "* Boolean - 1"
   ]
  },
  {
   "cell_type": "code",
   "execution_count": 11,
   "metadata": {},
   "outputs": [],
   "source": [
    "# report = pp.ProfileReport(data)"
   ]
  },
  {
   "cell_type": "code",
   "execution_count": 12,
   "metadata": {},
   "outputs": [],
   "source": [
    "# report.to_widgets()"
   ]
  },
  {
   "cell_type": "code",
   "execution_count": 13,
   "metadata": {},
   "outputs": [],
   "source": [
    "# report.get_rejected_variables()"
   ]
  },
  {
   "cell_type": "markdown",
   "metadata": {},
   "source": [
    "## Feature transformations\n",
    "\n",
    "New features:\n",
    "* `PoolArea` - feature `HasPool` created to represent whether or not the property has a pool\n",
    "\n",
    "Requires normalisation:\n",
    "* `LotFrontage`\n",
    "* `LotArea`\n",
    "* `1stFlrSF`\n",
    "* `2ndFlrSF`\n",
    "* `GarageArea`\n",
    "* `Fireplaces`\n",
    "* `FullBath`\n",
    "* `HalfBath`\n",
    "* `BedroomAbvGr`\n",
    "* `KitchenAbvGr`\n",
    "* `TotRmsAbvGrd`\n",
    "\n",
    "Requires label encoding:\n",
    "* `MSSubClass`\n",
    "* `LotShape`\n",
    "* `LandContour`\n",
    "* `LotConfig`\n",
    "* `Neighborhood`\n",
    "* `Condition1`\n",
    "* `BldgType`\n",
    "* `HouseStyle`\n",
    "* `OverallQual`\n",
    "* `YearBuilt`\n",
    "* `YearRemodAdd`\n",
    "* `Exterior1st`\n",
    "* `ExterQual`\n",
    "* `Foundation`\n",
    "* `HeatingQC`\n",
    "* `KitchenQual`\n",
    "* `PavedDrive`\n",
    "* `YrSold`\n",
    "* `MoSold`\n",
    "* `SaleType`\n",
    "* `SaleCondition`\n",
    "\n",
    "Requires bool transformation:\n",
    "* `CentralAir`\n",
    "\n",
    "Missing value imputation:\n",
    "* Missing categorical values can be imputed with ''\n",
    "* Missing continuous values can be imputed with 0.0\n",
    "* Missing binary values can be imputed with 0"
   ]
  },
  {
   "cell_type": "code",
   "execution_count": 14,
   "metadata": {},
   "outputs": [],
   "source": [
    "# embedding text\n",
    "def prepare_emb_text(row, fields):\n",
    "    texts = []\n",
    "    for f in fields:\n",
    "        if isinstance(row[f], str) and len(row[f]) > 0:\n",
    "            texts.append(row[f])\n",
    "    \n",
    "    return ' '.join(texts).lower()\n",
    "\n",
    "\n",
    "# encode features\n",
    "def create_feature_mapping(df, fields):\n",
    "    feature_maps = {}\n",
    "    for f in fields:\n",
    "        print('Creating feature map for {}'.format(f))\n",
    "        unique_values = ['UNK'] + list(df[f].unique())\n",
    "        feature_maps[f] = dict(\n",
    "            zip(unique_values, range(len(unique_values))))\n",
    "    return feature_maps\n",
    "\n",
    "def encode_features(df, fields, feature_maps):\n",
    "    for f in fields:\n",
    "        print('Encoding {}'.format(f))\n",
    "        df[f] = df[f].map(lambda x: feature_maps[f][x])\n",
    "    return df\n",
    "\n",
    "\n",
    "# split into train/test/val\n",
    "def split_dataset(df, p_train=0.8, p_val=0.1):\n",
    "    n_rows = df.shape[0]\n",
    "    train_rows, val_rows = int(n_rows * p_train), int(n_rows * p_val)\n",
    "    train = df[:train_rows - val_rows].sample(frac=1)\n",
    "    val = df[train_rows - val_rows:train_rows].sample(frac=1) # sample() shuffles rows\n",
    "    test = df[train_rows:].sample(frac=1)\n",
    "\n",
    "    print('[INFO] Train examples: {}'.format(train.shape[0]))\n",
    "    print('[INFO] Val examples: {}'.format(val.shape[0]))\n",
    "    print('[INFO] Test examples: {}'.format(test.shape[0]))\n",
    "\n",
    "    return train, val, test\n",
    "\n",
    "\n",
    "# normalise features\n",
    "def scale_features(df, fields, train=True, scalers=None):\n",
    "    if scalers is None:\n",
    "        scalers = {}\n",
    "    for f in fields:\n",
    "        if train:\n",
    "            mm_scaler = MinMaxScaler()\n",
    "            df[f] = np.round(mm_scaler.fit_transform(df[f].values.reshape(-1, 1)), 3)\n",
    "            scalers[f] = mm_scaler\n",
    "        else:\n",
    "            mm_scaler = scalers[f]\n",
    "            df[f] = np.round(mm_scaler.transform(df[f].values.reshape(-1, 1)), 3)\n",
    "    return df, scalers"
   ]
  },
  {
   "cell_type": "markdown",
   "metadata": {},
   "source": [
    "**Feature engineering**"
   ]
  },
  {
   "cell_type": "code",
   "execution_count": 15,
   "metadata": {},
   "outputs": [],
   "source": [
    "# new features\n",
    "data['HasPool'] = data['PoolArea'].apply(lambda x: 1 if x > 0 else 0)\n",
    "del data['PoolArea']"
   ]
  },
  {
   "cell_type": "markdown",
   "metadata": {},
   "source": [
    "**Field types**"
   ]
  },
  {
   "cell_type": "code",
   "execution_count": 16,
   "metadata": {},
   "outputs": [],
   "source": [
    "emb_features = ['Neighborhood', 'BldgType', 'Condition1', 'Exterior1st', 'LotConfig']\n",
    "\n",
    "cat_features = ['MSSubClass', 'LotShape', 'LandContour', 'LotConfig', 'Neighborhood', 'Condition1', 'BldgType', 'HouseStyle', 'OverallQual', 'YearBuilt', 'YearRemodAdd', 'Exterior1st',\n",
    "               'ExterQual', 'Foundation', 'HeatingQC', 'KitchenQual', 'PavedDrive', 'YrSold', 'MoSold',\n",
    "               'SaleType', 'SaleCondition']\n",
    "\n",
    "cont_features = ['LotFrontage', 'LotArea', '1stFlrSF', '2ndFlrSF', 'GarageArea', 'Fireplaces', 'FullBath', 'HalfBath', 'BedroomAbvGr', 'KitchenAbvGr', 'TotRmsAbvGrd']\n",
    "\n",
    "bin_features = ['HasPool', 'CentralAir']\n",
    "\n",
    "all_features = cat_features + cont_features + bin_features"
   ]
  },
  {
   "cell_type": "markdown",
   "metadata": {},
   "source": [
    "**Imputation**"
   ]
  },
  {
   "cell_type": "code",
   "execution_count": 17,
   "metadata": {},
   "outputs": [],
   "source": [
    "# missing value imputation\n",
    "values_na = {_:'' for _ in cat_features}\n",
    "cont_na = {_:0.0 for _ in cont_features}\n",
    "bin_na = {_:0 for _ in bin_features}\n",
    "\n",
    "values_na.update(cont_na)\n",
    "values_na.update(bin_na)\n",
    "\n",
    "data = data.fillna(value=values_na)"
   ]
  },
  {
   "cell_type": "markdown",
   "metadata": {},
   "source": [
    "**Transform binary fields**"
   ]
  },
  {
   "cell_type": "code",
   "execution_count": 18,
   "metadata": {},
   "outputs": [],
   "source": [
    "# boolean transformation\n",
    "data['CentralAir'] = data['CentralAir'].apply(lambda x: 1 if x == 'Y' else 0)"
   ]
  },
  {
   "cell_type": "markdown",
   "metadata": {},
   "source": [
    "**Prepare embedding text and obtain encoded sequence**\n",
    "\n",
    "* `texts_to_sequence` - this tokenizes the input text by splitting the corpus into a list of tokens and each unique word token is given a dedicated integer value"
   ]
  },
  {
   "cell_type": "code",
   "execution_count": 19,
   "metadata": {},
   "outputs": [],
   "source": [
    "# prepare embedding text\n",
    "data[EMB_TEXT] = data.apply(lambda x: prepare_emb_text(x, emb_features), axis=1)"
   ]
  },
  {
   "cell_type": "code",
   "execution_count": 20,
   "metadata": {},
   "outputs": [
    {
     "name": "stdout",
     "output_type": "stream",
     "text": [
      "There are 465 unique emb_text values.\n",
      "Length of sequences: 1460\n",
      "Found 60 unique tokens.\n"
     ]
    },
    {
     "data": {
      "text/html": [
       "<div>\n",
       "<style scoped>\n",
       "    .dataframe tbody tr th:only-of-type {\n",
       "        vertical-align: middle;\n",
       "    }\n",
       "\n",
       "    .dataframe tbody tr th {\n",
       "        vertical-align: top;\n",
       "    }\n",
       "\n",
       "    .dataframe thead th {\n",
       "        text-align: right;\n",
       "    }\n",
       "</style>\n",
       "<table border=\"1\" class=\"dataframe\">\n",
       "  <thead>\n",
       "    <tr style=\"text-align: right;\">\n",
       "      <th></th>\n",
       "      <th>emb_text</th>\n",
       "      <th>seq</th>\n",
       "    </tr>\n",
       "  </thead>\n",
       "  <tbody>\n",
       "    <tr>\n",
       "      <th>0</th>\n",
       "      <td>collgcr 1fam norm vinylsd inside</td>\n",
       "      <td>[0, 11, 2, 1, 4, 3]</td>\n",
       "    </tr>\n",
       "    <tr>\n",
       "      <th>1</th>\n",
       "      <td>veenker 1fam feedr metalsd fr2</td>\n",
       "      <td>[0, 48, 2, 18, 8, 31]</td>\n",
       "    </tr>\n",
       "    <tr>\n",
       "      <th>2</th>\n",
       "      <td>collgcr 1fam norm vinylsd inside</td>\n",
       "      <td>[0, 11, 2, 1, 4, 3]</td>\n",
       "    </tr>\n",
       "  </tbody>\n",
       "</table>\n",
       "</div>"
      ],
      "text/plain": [
       "                           emb_text                    seq\n",
       "0  collgcr 1fam norm vinylsd inside    [0, 11, 2, 1, 4, 3]\n",
       "1    veenker 1fam feedr metalsd fr2  [0, 48, 2, 18, 8, 31]\n",
       "2  collgcr 1fam norm vinylsd inside    [0, 11, 2, 1, 4, 3]"
      ]
     },
     "metadata": {},
     "output_type": "display_data"
    }
   ],
   "source": [
    "# obtain encoded sequence for text to embed\n",
    "MAX_SEQUENCE_LENGTH = 6\n",
    "MAX_NUM_WORDS = 100\n",
    "\n",
    "# tokenize and encode\n",
    "tokenizer = Tokenizer(num_words=MAX_NUM_WORDS, split=' ')\n",
    "tokenizer.fit_on_texts(data[EMB_TEXT].values)\n",
    "sequences = tokenizer.texts_to_sequences(data[EMB_TEXT].values)\n",
    "word_index = tokenizer.word_index\n",
    "\n",
    "# pad sequences so that they are all of equal length (MAX_SEQUENCE_LENGTH)\n",
    "emb_texts = pad_sequences(sequences, maxlen=MAX_SEQUENCE_LENGTH)\n",
    "data['seq'] = emb_texts.tolist()\n",
    "\n",
    "print('There are {} unique {} values.'.format(data[EMB_TEXT].nunique(), EMB_TEXT))\n",
    "print('Length of sequences: {}'.format(len(sequences)))\n",
    "print('Found {} unique tokens.'.format(len(word_index)))\n",
    "display(data[[EMB_TEXT, 'seq']].head(3))"
   ]
  },
  {
   "cell_type": "code",
   "execution_count": 21,
   "metadata": {},
   "outputs": [],
   "source": [
    "# save tokenizer\n",
    "pickle_dump(TOKENIZER_PATH, tokenizer)"
   ]
  },
  {
   "cell_type": "markdown",
   "metadata": {},
   "source": [
    "**Label encoding**"
   ]
  },
  {
   "cell_type": "code",
   "execution_count": 22,
   "metadata": {},
   "outputs": [
    {
     "name": "stdout",
     "output_type": "stream",
     "text": [
      "Creating feature map for MSSubClass\n",
      "Creating feature map for LotShape\n",
      "Creating feature map for LandContour\n",
      "Creating feature map for LotConfig\n",
      "Creating feature map for Neighborhood\n",
      "Creating feature map for Condition1\n",
      "Creating feature map for BldgType\n",
      "Creating feature map for HouseStyle\n",
      "Creating feature map for OverallQual\n",
      "Creating feature map for YearBuilt\n",
      "Creating feature map for YearRemodAdd\n",
      "Creating feature map for Exterior1st\n",
      "Creating feature map for ExterQual\n",
      "Creating feature map for Foundation\n",
      "Creating feature map for HeatingQC\n",
      "Creating feature map for KitchenQual\n",
      "Creating feature map for PavedDrive\n",
      "Creating feature map for YrSold\n",
      "Creating feature map for MoSold\n",
      "Creating feature map for SaleType\n",
      "Creating feature map for SaleCondition\n",
      "Encoding MSSubClass\n",
      "Encoding LotShape\n",
      "Encoding LandContour\n",
      "Encoding LotConfig\n",
      "Encoding Neighborhood\n",
      "Encoding Condition1\n",
      "Encoding BldgType\n",
      "Encoding HouseStyle\n",
      "Encoding OverallQual\n",
      "Encoding YearBuilt\n",
      "Encoding YearRemodAdd\n",
      "Encoding Exterior1st\n",
      "Encoding ExterQual\n",
      "Encoding Foundation\n",
      "Encoding HeatingQC\n",
      "Encoding KitchenQual\n",
      "Encoding PavedDrive\n",
      "Encoding YrSold\n",
      "Encoding MoSold\n",
      "Encoding SaleType\n",
      "Encoding SaleCondition\n"
     ]
    }
   ],
   "source": [
    "# encode categorical features\n",
    "feature_maps = create_feature_mapping(data, cat_features)\n",
    "data = encode_features(data, cat_features, feature_maps)\n",
    "\n",
    "# save mappings\n",
    "pickle_dump(MAP_PATH, feature_maps)"
   ]
  },
  {
   "cell_type": "markdown",
   "metadata": {},
   "source": [
    "**Split data into train / test / validation**"
   ]
  },
  {
   "cell_type": "code",
   "execution_count": 23,
   "metadata": {},
   "outputs": [
    {
     "name": "stdout",
     "output_type": "stream",
     "text": [
      "[INFO] Train examples: 1022\n",
      "[INFO] Val examples: 146\n",
      "[INFO] Test examples: 292\n"
     ]
    }
   ],
   "source": [
    "# split into train, val and test before scaling features\n",
    "train, val, test = split_dataset(data, p_train=0.8, p_val=0.1)"
   ]
  },
  {
   "cell_type": "markdown",
   "metadata": {},
   "source": [
    "**Scale features**"
   ]
  },
  {
   "cell_type": "code",
   "execution_count": 24,
   "metadata": {},
   "outputs": [],
   "source": [
    "# scale features\n",
    "train, scalers = scale_features(train, cont_features, train=True)\n",
    "pickle_dump(SCALER_PATH, scalers)\n",
    "\n",
    "test, _ = scale_features(test, cont_features, train=False, scalers=scalers)\n",
    "val, _ = scale_features(val, cont_features, train=False, scalers=scalers)"
   ]
  },
  {
   "cell_type": "markdown",
   "metadata": {},
   "source": [
    "## Modelling"
   ]
  },
  {
   "cell_type": "code",
   "execution_count": 25,
   "metadata": {},
   "outputs": [],
   "source": [
    "def metrics(y_true, y_pred):\n",
    "    print('R^2: {:.4f}'.format(r2_score(y_true, y_pred)))\n",
    "    print('Mean absolute error: {:.4f}'.format(mean_absolute_error(y_true, y_pred)))\n",
    "    print('Mean squared error: {:.4f}'.format(mean_squared_error(y_true, y_pred)))"
   ]
  },
  {
   "cell_type": "markdown",
   "metadata": {},
   "source": [
    "**Baseline model**"
   ]
  },
  {
   "cell_type": "markdown",
   "metadata": {},
   "source": [
    "Random Forest Regressor."
   ]
  },
  {
   "cell_type": "code",
   "execution_count": 26,
   "metadata": {},
   "outputs": [],
   "source": [
    "rf = RandomForestRegressor(n_estimators=100, random_state=RANDOM_SEED)\n",
    "rf.fit(train[all_features], train[LABEL])\n",
    "y_pred = rf.predict(test[all_features])"
   ]
  },
  {
   "cell_type": "markdown",
   "metadata": {},
   "source": [
    "Feature importances."
   ]
  },
  {
   "cell_type": "code",
   "execution_count": 27,
   "metadata": {},
   "outputs": [
    {
     "data": {
      "image/png": "[encoded data removed]",
      "text/plain": [
       "<Figure size 1440x720 with 1 Axes>"
      ]
     },
     "metadata": {},
     "output_type": "display_data"
    }
   ],
   "source": [
    "importances = rf.feature_importances_\n",
    "indices = np.argsort(importances)\n",
    "\n",
    "plt.rcParams[\"figure.figsize\"] = (20,10)\n",
    "plt.title('Feature Importances')\n",
    "plt.barh(range(len(indices)), importances[indices], color='b', align='center')\n",
    "plt.yticks(range(len(indices)), [all_features[i] for i in indices])\n",
    "plt.xlabel('Relative Importance')\n",
    "plt.show()"
   ]
  },
  {
   "cell_type": "code",
   "execution_count": 28,
   "metadata": {},
   "outputs": [
    {
     "name": "stdout",
     "output_type": "stream",
     "text": [
      "R^2: 0.7881\n",
      "Mean absolute error: 21542.6360\n",
      "Mean squared error: 1420949675.4624\n"
     ]
    }
   ],
   "source": [
    "metrics(test[LABEL], y_pred)"
   ]
  },
  {
   "cell_type": "markdown",
   "metadata": {},
   "source": [
    "**Keras model**\n",
    "\n",
    "* `Input()` is used to instantiate a Keras tensor.\n",
    "* `Flatten()`\n",
    "* `Concatenate()`\n",
    "* `Dense()`"
   ]
  },
  {
   "cell_type": "code",
   "execution_count": 29,
   "metadata": {},
   "outputs": [],
   "source": [
    "model_params = {\n",
    "    'batch_size': 64,\n",
    "    'epochs': 100,\n",
    "    'lr': 0.01,\n",
    "    'dropout': 0.5\n",
    "}"
   ]
  },
  {
   "cell_type": "code",
   "execution_count": 30,
   "metadata": {},
   "outputs": [
    {
     "name": "stdout",
     "output_type": "stream",
     "text": [
      "Embedding dimensions will be set as: 3\n"
     ]
    }
   ],
   "source": [
    "num_words = min(MAX_NUM_WORDS, len(word_index) + 1)\n",
    "print('Embedding dimensions will be set as: {}'.format(round(num_words**0.25)))"
   ]
  },
  {
   "cell_type": "code",
   "execution_count": 31,
   "metadata": {},
   "outputs": [],
   "source": [
    "def build_model(seq_length, num_length, latent_dim, lr=0.001, dropout=0.2):\n",
    "    \"\"\"Build Keras DNN model with Embedding layer.\n",
    "    \"\"\"\n",
    "    # Input layers\n",
    "    seq_input = Input(shape=[seq_length], dtype='int32', name='text_sequence')\n",
    "    num_input = Input(shape=(num_length,), name='numerical_features')\n",
    "\n",
    "    # Embedding layer\n",
    "    emb = Embedding(input_dim=num_words, output_dim=latent_dim, name='embedding_layer')(seq_input)\n",
    "\n",
    "    # Flatten embedded output so that we can concatenate with numerical features\n",
    "    flatten = Flatten(name='flatten_embedded_output')(emb)\n",
    "\n",
    "    # Concatenate layers\n",
    "    conc = Concatenate(name='concatenate_embedding_numeric')([flatten, num_input])\n",
    "\n",
    "    # 1st hidden layer\n",
    "    h1 = Dense(units=16, activation='relu', name='first_dense_layer')(conc)\n",
    "    \n",
    "    # 1st Dropout layer\n",
    "    d1 = Dropout(rate=dropout, name='first_dropout_layer')(h1)\n",
    "\n",
    "    # 2nd hidden layer\n",
    "    h2 = Dense(units=8, activation='relu', name='second_dense_layer')(d1)\n",
    "    \n",
    "    # 2nd Dropout layer\n",
    "    d2 = Dropout(rate=dropout, name='second_dropout_layer')(h2)\n",
    "\n",
    "    # Output layer\n",
    "    out = Dense(1, activation='linear', name='output_layer')(d2)\n",
    "\n",
    "    # Compile model\n",
    "    model = Model(inputs=[seq_input, num_input], outputs=out)\n",
    "    model.compile(\n",
    "        optimizer=Adam(lr=lr),\n",
    "        loss='mse',\n",
    "        metrics=['mse', 'mae']\n",
    "    )\n",
    "    print(model.summary())\n",
    "    \n",
    "    return model\n",
    "\n",
    "\n",
    "def train_model(model, train, val, label_col, seq_col, num_cols, batch_size=128, epochs=100):\n",
    "    \"\"\"Fit model to training set.\n",
    "    \"\"\"\n",
    "    print('[INFO] Batch size: {}, Epochs: {}'.format(batch_size, epochs))\n",
    "    \n",
    "    train_input = [\n",
    "        np.array(train[seq_col].to_list()),\n",
    "        train[num_cols]\n",
    "    ]\n",
    "    \n",
    "    val_input = [\n",
    "        np.array(val[seq_col].to_list()),\n",
    "        val[num_cols]\n",
    "    ]\n",
    "    \n",
    "    print('[INFO] Begin training...')\n",
    "    history = model.fit(\n",
    "        x=train_input,\n",
    "        y=train[label_col],\n",
    "        validation_data=(val_input, val[label_col]),\n",
    "        batch_size=batch_size,\n",
    "        epochs=epochs,\n",
    "        verbose=1,\n",
    "        shuffle=True\n",
    "    )\n",
    "    \n",
    "    return history\n",
    "\n",
    "\n",
    "def plot_loss(model_history):\n",
    "    \"\"\"Plot training & validation loss values.\n",
    "    \"\"\"\n",
    "    plt.rcParams[\"figure.figsize\"] = (15,8)\n",
    "    plt.plot(model_history.history['loss'])\n",
    "    plt.plot(model_history.history['val_loss'])\n",
    "    plt.title('Model Loss')\n",
    "    plt.ylabel('Loss')\n",
    "    plt.xlabel('Epoch')\n",
    "    plt.legend(['Train', 'Validation'], loc='upper right')\n",
    "    plt.show()"
   ]
  },
  {
   "cell_type": "code",
   "execution_count": 32,
   "metadata": {},
   "outputs": [
    {
     "name": "stdout",
     "output_type": "stream",
     "text": [
      "Model: \"model\"\n",
      "__________________________________________________________________________________________________\n",
      "Layer (type)                    Output Shape         Param #     Connected to                     \n",
      "==================================================================================================\n",
      "text_sequence (InputLayer)      [(None, 6)]          0                                            \n",
      "__________________________________________________________________________________________________\n",
      "embedding_layer (Embedding)     (None, 6, 2)         122         text_sequence[0][0]              \n",
      "__________________________________________________________________________________________________\n",
      "flatten_embedded_output (Flatte (None, 12)           0           embedding_layer[0][0]            \n",
      "__________________________________________________________________________________________________\n",
      "numerical_features (InputLayer) [(None, 34)]         0                                            \n",
      "__________________________________________________________________________________________________\n",
      "concatenate_embedding_numeric ( (None, 46)           0           flatten_embedded_output[0][0]    \n",
      "                                                                 numerical_features[0][0]         \n",
      "__________________________________________________________________________________________________\n",
      "first_dense_layer (Dense)       (None, 16)           752         concatenate_embedding_numeric[0][\n",
      "__________________________________________________________________________________________________\n",
      "first_dropout_layer (Dropout)   (None, 16)           0           first_dense_layer[0][0]          \n",
      "__________________________________________________________________________________________________\n",
      "second_dense_layer (Dense)      (None, 8)            136         first_dropout_layer[0][0]        \n",
      "__________________________________________________________________________________________________\n",
      "second_dropout_layer (Dropout)  (None, 8)            0           second_dense_layer[0][0]         \n",
      "__________________________________________________________________________________________________\n",
      "output_layer (Dense)            (None, 1)            9           second_dropout_layer[0][0]       \n",
      "==================================================================================================\n",
      "Total params: 1,019\n",
      "Trainable params: 1,019\n",
      "Non-trainable params: 0\n",
      "__________________________________________________________________________________________________\n",
      "None\n"
     ]
    }
   ],
   "source": [
    "model = build_model(\n",
    "    seq_length=MAX_SEQUENCE_LENGTH,\n",
    "    num_length=len(all_features),\n",
    "    latent_dim=int(num_words**0.25),\n",
    "    lr=model_params['lr'],\n",
    "    dropout=model_params['dropout']\n",
    ")"
   ]
  },
  {
   "cell_type": "code",
   "execution_count": 33,
   "metadata": {
    "collapsed": true,
    "jupyter": {
     "outputs_hidden": true
    }
   },
   "outputs": [
    {
     "name": "stdout",
     "output_type": "stream",
     "text": [
      "[INFO] Batch size: 64, Epochs: 100\n",
      "[INFO] Begin training...\n",
      "Train on 1022 samples, validate on 146 samples\n",
      "Epoch 1/100\n",
      "1022/1022 [==============================] - 1s 1ms/sample - loss: 39381098728.4540 - mse: 39381098496.0000 - mae: 181686.2969 - val_loss: 34801010547.7260 - val_mse: 34801012736.0000 - val_mae: 172660.2188\n",
      "Epoch 2/100\n",
      "1022/1022 [==============================] - 0s 94us/sample - loss: 39327370927.3425 - mse: 39327367168.0000 - mae: 181534.1406 - val_loss: 34696991196.9315 - val_mse: 34696990720.0000 - val_mae: 172346.4375\n",
      "Epoch 3/100\n",
      "1022/1022 [==============================] - 0s 154us/sample - loss: 39110239566.6536 - mse: 39110238208.0000 - mae: 180914.9531 - val_loss: 34343072361.2055 - val_mse: 34343069696.0000 - val_mae: 171275.0625\n",
      "Epoch 4/100\n",
      "1022/1022 [==============================] - 0s 126us/sample - loss: 38519480344.0470 - mse: 38519484416.0000 - mae: 179190.6719 - val_loss: 33455791454.6849 - val_mse: 33455790080.0000 - val_mae: 168560.1406\n",
      "Epoch 5/100\n",
      "1022/1022 [==============================] - 0s 122us/sample - loss: 37214832247.2329 - mse: 37214830592.0000 - mae: 175419.0156 - val_loss: 31638456207.7808 - val_mse: 31638458368.0000 - val_mae: 162849.3438\n",
      "Epoch 6/100\n",
      "1022/1022 [==============================] - 0s 118us/sample - loss: 34755799196.3053 - mse: 34755801088.0000 - mae: 167617.0312 - val_loss: 28549576619.8356 - val_mse: 28549576704.0000 - val_mae: 152605.6094\n",
      "Epoch 7/100\n",
      "1022/1022 [==============================] - 0s 111us/sample - loss: 30861382629.9491 - mse: 30861383680.0000 - mae: 154666.5938 - val_loss: 24072161813.0411 - val_mse: 24072163328.0000 - val_mae: 136240.2812\n",
      "Epoch 8/100\n",
      "1022/1022 [==============================] - 0s 137us/sample - loss: 25851268248.2975 - mse: 25851271168.0000 - mae: 136109.3281 - val_loss: 18538248234.0822 - val_mse: 18538248192.0000 - val_mae: 112315.2109\n",
      "Epoch 9/100\n",
      "1022/1022 [==============================] - 0s 124us/sample - loss: 20477860617.5186 - mse: 20477861888.0000 - mae: 115517.9141 - val_loss: 13328530965.0411 - val_mse: 13328531456.0000 - val_mae: 86456.9531\n",
      "Epoch 10/100\n",
      "1022/1022 [==============================] - 0s 129us/sample - loss: 17279833362.5362 - mse: 17279832064.0000 - mae: 103506.2812 - val_loss: 10249286193.0959 - val_mse: 10249286656.0000 - val_mae: 72692.7188\n",
      "Epoch 11/100\n",
      "1022/1022 [==============================] - 0s 99us/sample - loss: 16591476399.3425 - mse: 16591475712.0000 - mae: 100656.4688 - val_loss: 9106918989.1507 - val_mse: 9106919424.0000 - val_mae: 69358.9688\n",
      "Epoch 12/100\n",
      "1022/1022 [==============================] - 0s 126us/sample - loss: 16219849329.2211 - mse: 16219849728.0000 - mae: 99204.7188 - val_loss: 8892719139.0685 - val_mse: 8892719104.0000 - val_mae: 68296.4844\n",
      "Epoch 13/100\n",
      "1022/1022 [==============================] - 0s 129us/sample - loss: 16201169930.0196 - mse: 16201170944.0000 - mae: 98764.3672 - val_loss: 8548533044.6027 - val_mse: 8548532736.0000 - val_mae: 66942.6406\n",
      "Epoch 14/100\n",
      "1022/1022 [==============================] - 0s 138us/sample - loss: 15457173552.0939 - mse: 15457173504.0000 - mae: 96080.3750 - val_loss: 8247195213.1507 - val_mse: 8247194624.0000 - val_mae: 65664.6094\n",
      "Epoch 15/100\n",
      "1022/1022 [==============================] - 0s 136us/sample - loss: 14523883734.4188 - mse: 14523883520.0000 - mae: 93377.2812 - val_loss: 7950309340.9315 - val_mse: 7950309376.0000 - val_mae: 64357.2461\n",
      "Epoch 16/100\n",
      "1022/1022 [==============================] - 0s 125us/sample - loss: 15088360061.2446 - mse: 15088360448.0000 - mae: 96651.4219 - val_loss: 7576178365.3699 - val_mse: 7576178176.0000 - val_mae: 62895.4805\n",
      "Epoch 17/100\n",
      "1022/1022 [==============================] - 0s 158us/sample - loss: 14717094745.6751 - mse: 14717094912.0000 - mae: 95129.2812 - val_loss: 7448520942.4658 - val_mse: 7448521216.0000 - val_mae: 61872.1992\n",
      "Epoch 18/100\n",
      "1022/1022 [==============================] - 0s 138us/sample - loss: 14617469511.1389 - mse: 14617468928.0000 - mae: 94032.2578 - val_loss: 7443529286.1370 - val_mse: 7443529728.0000 - val_mae: 61296.9180\n",
      "Epoch 19/100\n",
      "1022/1022 [==============================] - 0s 97us/sample - loss: 14583800134.6380 - mse: 14583798784.0000 - mae: 93284.0781 - val_loss: 7021980082.8493 - val_mse: 7021980160.0000 - val_mae: 59670.4531\n",
      "Epoch 20/100\n",
      "1022/1022 [==============================] - 0s 113us/sample - loss: 14212753762.6928 - mse: 14212755456.0000 - mae: 90983.7656 - val_loss: 6834120942.4658 - val_mse: 6834121216.0000 - val_mae: 58766.9805\n",
      "Epoch 21/100\n",
      "1022/1022 [==============================] - 0s 92us/sample - loss: 14590828471.8591 - mse: 14590828544.0000 - mae: 93976.8594 - val_loss: 6797864672.4384 - val_mse: 6797864448.0000 - val_mae: 58236.4922\n",
      "Epoch 22/100\n",
      "1022/1022 [==============================] - 0s 150us/sample - loss: 13225267853.2759 - mse: 13225267200.0000 - mae: 87660.9375 - val_loss: 6421315941.6986 - val_mse: 6421316096.0000 - val_mae: 56740.9258\n",
      "Epoch 23/100\n",
      "1022/1022 [==============================] - 0s 133us/sample - loss: 13144523178.8337 - mse: 13144523776.0000 - mae: 88358.7812 - val_loss: 6173119670.3562 - val_mse: 6173119488.0000 - val_mae: 55598.3867\n",
      "Epoch 24/100\n",
      "1022/1022 [==============================] - 0s 132us/sample - loss: 12975702100.1644 - mse: 12975700992.0000 - mae: 86798.4688 - val_loss: 6191104098.1918 - val_mse: 6191104000.0000 - val_mae: 55315.3633\n",
      "Epoch 25/100\n",
      "1022/1022 [==============================] - 0s 139us/sample - loss: 14745224821.2290 - mse: 14745225216.0000 - mae: 93039.9922 - val_loss: 6200532627.2877 - val_mse: 6200532480.0000 - val_mae: 55219.1562\n",
      "Epoch 26/100\n",
      "1022/1022 [==============================] - 0s 88us/sample - loss: 13624020923.8669 - mse: 13624020992.0000 - mae: 88258.9297 - val_loss: 6061212910.4658 - val_mse: 6061212672.0000 - val_mae: 54477.0117\n",
      "Epoch 27/100\n",
      "1022/1022 [==============================] - 0s 147us/sample - loss: 13832310545.5342 - mse: 13832309760.0000 - mae: 90278.6797 - val_loss: 5852847644.0548 - val_mse: 5852847616.0000 - val_mae: 53395.6992\n",
      "Epoch 28/100\n",
      "1022/1022 [==============================] - 0s 78us/sample - loss: 14025932172.7750 - mse: 14025932800.0000 - mae: 89785.5078 - val_loss: 5900488802.1918 - val_mse: 5900488704.0000 - val_mae: 53526.5977\n",
      "Epoch 29/100\n",
      "1022/1022 [==============================] - 0s 85us/sample - loss: 12960833273.4873 - mse: 12960834560.0000 - mae: 86642.0859 - val_loss: 5597058083.0685 - val_mse: 5597058048.0000 - val_mae: 51921.9609\n",
      "Epoch 30/100\n",
      "1022/1022 [==============================] - 0s 104us/sample - loss: 13140123635.9765 - mse: 13140123648.0000 - mae: 87751.7266 - val_loss: 5339850001.5342 - val_mse: 5339849728.0000 - val_mae: 50552.4922\n",
      "Epoch 31/100\n",
      "1022/1022 [==============================] - 0s 122us/sample - loss: 12546704758.7319 - mse: 12546705408.0000 - mae: 85570.3516 - val_loss: 5105008236.7123 - val_mse: 5105008640.0000 - val_mae: 49294.9141\n",
      "Epoch 32/100\n",
      "1022/1022 [==============================] - 0s 148us/sample - loss: 12677570325.5421 - mse: 12677569536.0000 - mae: 85183.3750 - val_loss: 4942838401.7534 - val_mse: 4942838272.0000 - val_mae: 48414.5234\n",
      "Epoch 33/100\n",
      "1022/1022 [==============================] - 0s 132us/sample - loss: 12696936397.9022 - mse: 12696935424.0000 - mae: 85559.8906 - val_loss: 4801684837.6986 - val_mse: 4801684992.0000 - val_mae: 47626.5039\n",
      "Epoch 34/100\n",
      "1022/1022 [==============================] - 0s 135us/sample - loss: 12539347366.8258 - mse: 12539346944.0000 - mae: 86070.2578 - val_loss: 4921796681.6438 - val_mse: 4921796608.0000 - val_mae: 48221.7539\n",
      "Epoch 35/100\n",
      "1022/1022 [==============================] - 0s 137us/sample - loss: 12354583435.7730 - mse: 12354582528.0000 - mae: 84690.6875 - val_loss: 4996365283.9452 - val_mse: 4996365312.0000 - val_mae: 48744.4102\n",
      "Epoch 36/100\n",
      "1022/1022 [==============================] - 0s 123us/sample - loss: 11875283849.7691 - mse: 11875282944.0000 - mae: 83127.8438 - val_loss: 5117173987.9452 - val_mse: 5117174272.0000 - val_mae: 49649.5859\n",
      "Epoch 37/100\n",
      "1022/1022 [==============================] - 0s 120us/sample - loss: 11877466422.6067 - mse: 11877465088.0000 - mae: 83230.3281 - val_loss: 5130554802.8493 - val_mse: 5130554880.0000 - val_mae: 49928.2930\n",
      "Epoch 38/100\n",
      "1022/1022 [==============================] - 0s 116us/sample - loss: 11564367621.5108 - mse: 11564366848.0000 - mae: 82696.2656 - val_loss: 4800262936.5479 - val_mse: 4800263168.0000 - val_mae: 47816.7773\n",
      "Epoch 39/100\n",
      "1022/1022 [==============================] - 0s 109us/sample - loss: 11988873865.2681 - mse: 11988873216.0000 - mae: 81744.0547 - val_loss: 4956688092.9315 - val_mse: 4956688384.0000 - val_mae: 49159.3750\n",
      "Epoch 40/100\n",
      "1022/1022 [==============================] - 0s 136us/sample - loss: 12481189587.4129 - mse: 12481190912.0000 - mae: 85998.1641 - val_loss: 4928787498.0822 - val_mse: 4928787456.0000 - val_mae: 49287.4375\n",
      "Epoch 41/100\n",
      "1022/1022 [==============================] - 0s 110us/sample - loss: 11645947082.3953 - mse: 11645946880.0000 - mae: 83712.3047 - val_loss: 4520750378.0822 - val_mse: 4520750592.0000 - val_mae: 46701.8984\n",
      "Epoch 42/100\n",
      "1022/1022 [==============================] - 0s 143us/sample - loss: 12053773957.2603 - mse: 12053773312.0000 - mae: 83575.8594 - val_loss: 4062328330.5205 - val_mse: 4062328320.0000 - val_mae: 43757.3516\n",
      "Epoch 43/100\n",
      "1022/1022 [==============================] - 0s 115us/sample - loss: 11605554486.6067 - mse: 11605554176.0000 - mae: 82415.2266 - val_loss: 4267320933.6986 - val_mse: 4267321088.0000 - val_mae: 45390.7617\n",
      "Epoch 44/100\n",
      "1022/1022 [==============================] - 0s 115us/sample - loss: 11778180132.0704 - mse: 11778180096.0000 - mae: 82964.6562 - val_loss: 4734331749.6986 - val_mse: 4734331904.0000 - val_mae: 49134.7773\n",
      "Epoch 45/100\n",
      "1022/1022 [==============================] - 0s 128us/sample - loss: 11440443919.0294 - mse: 11440444416.0000 - mae: 81866.3203 - val_loss: 4190849588.6027 - val_mse: 4190849536.0000 - val_mae: 45260.2109\n",
      "Epoch 46/100\n",
      "1022/1022 [==============================] - 0s 107us/sample - loss: 11068191441.4090 - mse: 11068192768.0000 - mae: 80710.2969 - val_loss: 3789014261.4795 - val_mse: 3789014016.0000 - val_mae: 42495.3477\n",
      "Epoch 47/100\n",
      "1022/1022 [==============================] - 0s 112us/sample - loss: 11398604531.4755 - mse: 11398603776.0000 - mae: 81390.0312 - val_loss: 4109108444.9315 - val_mse: 4109108224.0000 - val_mae: 45142.6094\n",
      "Epoch 48/100\n",
      "1022/1022 [==============================] - 0s 132us/sample - loss: 11384628981.4795 - mse: 11384629248.0000 - mae: 81463.0547 - val_loss: 4305053352.3288 - val_mse: 4305053696.0000 - val_mae: 46923.6992\n",
      "Epoch 49/100\n",
      "1022/1022 [==============================] - 0s 118us/sample - loss: 11015615185.4090 - mse: 11015615488.0000 - mae: 80483.8672 - val_loss: 4078265459.7260 - val_mse: 4078265344.0000 - val_mae: 45392.2031\n",
      "Epoch 50/100\n",
      "1022/1022 [==============================] - 0s 100us/sample - loss: 11348924740.6341 - mse: 11348924416.0000 - mae: 80457.1875 - val_loss: 3770841505.3151 - val_mse: 3770841856.0000 - val_mae: 43117.0078\n",
      "Epoch 51/100\n",
      "1022/1022 [==============================] - 0s 130us/sample - loss: 10821670342.8885 - mse: 10821669888.0000 - mae: 80009.7266 - val_loss: 3706718825.2055 - val_mse: 3706718720.0000 - val_mae: 42856.2188\n",
      "Epoch 52/100\n",
      "1022/1022 [==============================] - 0s 122us/sample - loss: 12135140211.7260 - mse: 12135141376.0000 - mae: 84321.7188 - val_loss: 4168060801.7534 - val_mse: 4168060928.0000 - val_mae: 46696.5117\n",
      "Epoch 53/100\n",
      "1022/1022 [==============================] - 0s 105us/sample - loss: 11178212682.6458 - mse: 11178212352.0000 - mae: 81822.2031 - val_loss: 4376884827.1781 - val_mse: 4376885248.0000 - val_mae: 48447.8516\n",
      "Epoch 54/100\n",
      "1022/1022 [==============================] - 0s 109us/sample - loss: 11267829948.3679 - mse: 11267829760.0000 - mae: 82586.8359 - val_loss: 3905912327.0137 - val_mse: 3905912320.0000 - val_mae: 44867.6367\n",
      "Epoch 55/100\n",
      "1022/1022 [==============================] - 0s 101us/sample - loss: 9899065686.6693 - mse: 9899065344.0000 - mae: 76327.2266 - val_loss: 3655193919.1233 - val_mse: 3655194112.0000 - val_mae: 43044.5703\n",
      "Epoch 56/100\n",
      "1022/1022 [==============================] - 0s 136us/sample - loss: 10247220147.8513 - mse: 10247219200.0000 - mae: 77145.9297 - val_loss: 3768016464.6575 - val_mse: 3768016640.0000 - val_mae: 44027.3359\n",
      "Epoch 57/100\n",
      "1022/1022 [==============================] - 0s 131us/sample - loss: 11496005148.0548 - mse: 11496005632.0000 - mae: 82152.2812 - val_loss: 3849473027.5068 - val_mse: 3849472768.0000 - val_mae: 44764.8203\n",
      "Epoch 58/100\n",
      "1022/1022 [==============================] - 0s 114us/sample - loss: 11175671910.1996 - mse: 11175671808.0000 - mae: 79293.7422 - val_loss: 3919359186.4110 - val_mse: 3919359488.0000 - val_mae: 45411.7695\n",
      "Epoch 59/100\n",
      "1022/1022 [==============================] - 0s 126us/sample - loss: 10856942203.2407 - mse: 10856941568.0000 - mae: 78321.3125 - val_loss: 3597261168.2192 - val_mse: 3597261056.0000 - val_mae: 43004.7109\n",
      "Epoch 60/100\n",
      "1022/1022 [==============================] - 0s 134us/sample - loss: 12197513929.3933 - mse: 12197513216.0000 - mae: 84601.8281 - val_loss: 3589626480.2192 - val_mse: 3589626368.0000 - val_mae: 43126.1367\n",
      "Epoch 61/100\n",
      "1022/1022 [==============================] - 0s 114us/sample - loss: 10458960258.7554 - mse: 10458960896.0000 - mae: 78876.8438 - val_loss: 3843824022.7945 - val_mse: 3843824128.0000 - val_mae: 45205.9453\n",
      "Epoch 62/100\n",
      "1022/1022 [==============================] - 0s 118us/sample - loss: 10286785523.9765 - mse: 10286785536.0000 - mae: 78324.2422 - val_loss: 3932805919.5616 - val_mse: 3932805888.0000 - val_mae: 45964.8750\n",
      "Epoch 63/100\n",
      "1022/1022 [==============================] - 0s 105us/sample - loss: 10577092155.1155 - mse: 10577093632.0000 - mae: 79723.3438 - val_loss: 3465408336.6575 - val_mse: 3465408256.0000 - val_mae: 42540.2344\n",
      "Epoch 64/100\n",
      "1022/1022 [==============================] - 0s 139us/sample - loss: 10794417572.8219 - mse: 10794417152.0000 - mae: 77464.8672 - val_loss: 3558043746.1918 - val_mse: 3558043648.0000 - val_mae: 43379.5977\n",
      "Epoch 65/100\n",
      "1022/1022 [==============================] - 0s 108us/sample - loss: 11207072441.3620 - mse: 11207072768.0000 - mae: 81607.4922 - val_loss: 4291115705.8630 - val_mse: 4291116032.0000 - val_mae: 49161.1992\n",
      "Epoch 66/100\n",
      "1022/1022 [==============================] - 0s 139us/sample - loss: 10743828993.0020 - mse: 10743829504.0000 - mae: 79556.8438 - val_loss: 3874789891.5068 - val_mse: 3874789888.0000 - val_mae: 45887.6641\n",
      "Epoch 67/100\n",
      "1022/1022 [==============================] - 0s 136us/sample - loss: 11186269151.9374 - mse: 11186269184.0000 - mae: 79095.6016 - val_loss: 3523912535.6712 - val_mse: 3523912448.0000 - val_mae: 43314.0625\n",
      "Epoch 68/100\n",
      "1022/1022 [==============================] - 0s 85us/sample - loss: 10089745999.1546 - mse: 10089746432.0000 - mae: 77213.7734 - val_loss: 3415735166.2466 - val_mse: 3415735040.0000 - val_mae: 42550.0000\n",
      "Epoch 69/100\n",
      "1022/1022 [==============================] - 0s 80us/sample - loss: 11079755295.0607 - mse: 11079754752.0000 - mae: 80510.2969 - val_loss: 3561051332.3836 - val_mse: 3561051392.0000 - val_mae: 43660.0078\n",
      "Epoch 70/100\n",
      "1022/1022 [==============================] - 0s 93us/sample - loss: 11485474266.9276 - mse: 11485473792.0000 - mae: 82902.3672 - val_loss: 3488772597.4795 - val_mse: 3488772608.0000 - val_mae: 43204.0742\n",
      "Epoch 71/100\n",
      "1022/1022 [==============================] - 0s 162us/sample - loss: 11038276168.1409 - mse: 11038276608.0000 - mae: 80658.0078 - val_loss: 3806195687.4521 - val_mse: 3806195712.0000 - val_mae: 45647.9336\n",
      "Epoch 72/100\n",
      "1022/1022 [==============================] - 0s 111us/sample - loss: 11122259713.5029 - mse: 11122259968.0000 - mae: 79318.8359 - val_loss: 3852417774.4658 - val_mse: 3852418048.0000 - val_mae: 45921.0352\n",
      "Epoch 73/100\n",
      "1022/1022 [==============================] - 0s 113us/sample - loss: 10683935583.6869 - mse: 10683934720.0000 - mae: 78350.6016 - val_loss: 3520137671.8904 - val_mse: 3520137728.0000 - val_mae: 43385.7344\n",
      "Epoch 74/100\n",
      "1022/1022 [==============================] - 0s 180us/sample - loss: 11589002059.6477 - mse: 11589001216.0000 - mae: 80852.6797 - val_loss: 3630125399.6712 - val_mse: 3630125568.0000 - val_mae: 44232.4141\n",
      "Epoch 75/100\n",
      "1022/1022 [==============================] - 0s 118us/sample - loss: 11212684235.8982 - mse: 11212683264.0000 - mae: 80688.6953 - val_loss: 3466848140.2740 - val_mse: 3466848000.0000 - val_mae: 43008.9844\n",
      "Epoch 76/100\n",
      "1022/1022 [==============================] - 0s 104us/sample - loss: 10601003991.9217 - mse: 10601004032.0000 - mae: 78394.6719 - val_loss: 3791182255.3425 - val_mse: 3791182080.0000 - val_mae: 45583.1172\n",
      "Epoch 77/100\n",
      "1022/1022 [==============================] - 0s 112us/sample - loss: 10362306950.7632 - mse: 10362306560.0000 - mae: 78217.2500 - val_loss: 3897239317.0411 - val_mse: 3897239552.0000 - val_mae: 46475.9766\n",
      "Epoch 78/100\n",
      "1022/1022 [==============================] - 0s 104us/sample - loss: 10841111443.7887 - mse: 10841110528.0000 - mae: 80615.5469 - val_loss: 4123783185.5342 - val_mse: 4123783168.0000 - val_mae: 48205.4805\n",
      "Epoch 79/100\n",
      "1022/1022 [==============================] - 0s 113us/sample - loss: 10991145436.9315 - mse: 10991144960.0000 - mae: 79134.7188 - val_loss: 3818920128.8767 - val_mse: 3818920192.0000 - val_mae: 45818.1250\n",
      "Epoch 80/100\n",
      "1022/1022 [==============================] - 0s 135us/sample - loss: 10108610475.8356 - mse: 10108610560.0000 - mae: 77172.7969 - val_loss: 3706558176.4384 - val_mse: 3706558464.0000 - val_mae: 44948.8633\n",
      "Epoch 81/100\n",
      "1022/1022 [==============================] - 0s 110us/sample - loss: 11671977593.2368 - mse: 11671977984.0000 - mae: 83011.1484 - val_loss: 3767487649.3151 - val_mse: 3767487744.0000 - val_mae: 45506.6797\n",
      "Epoch 82/100\n",
      "1022/1022 [==============================] - 0s 118us/sample - loss: 10651322394.0509 - mse: 10651322368.0000 - mae: 77741.6641 - val_loss: 3782329389.5890 - val_mse: 3782329344.0000 - val_mae: 45675.6289\n",
      "Epoch 83/100\n",
      "1022/1022 [==============================] - 0s 111us/sample - loss: 10592483334.0117 - mse: 10592483328.0000 - mae: 79780.1250 - val_loss: 3757449840.2192 - val_mse: 3757449728.0000 - val_mae: 45579.8086\n",
      "Epoch 84/100\n",
      "1022/1022 [==============================] - 0s 127us/sample - loss: 11748439745.3777 - mse: 11748439040.0000 - mae: 83142.1328 - val_loss: 3860752871.4521 - val_mse: 3860752640.0000 - val_mae: 46322.2070\n",
      "Epoch 85/100\n",
      "1022/1022 [==============================] - 0s 109us/sample - loss: 10721704777.6438 - mse: 10721703936.0000 - mae: 80799.1250 - val_loss: 3548776910.9041 - val_mse: 3548776960.0000 - val_mae: 43994.2305\n",
      "Epoch 86/100\n",
      "1022/1022 [==============================] - 0s 136us/sample - loss: 10321265171.0372 - mse: 10321265664.0000 - mae: 76884.3047 - val_loss: 3213939599.7808 - val_mse: 3213939456.0000 - val_mae: 41360.2344\n",
      "Epoch 87/100\n",
      "1022/1022 [==============================] - 0s 91us/sample - loss: 10475681084.6184 - mse: 10475681792.0000 - mae: 78186.1094 - val_loss: 3694884755.2877 - val_mse: 3694884608.0000 - val_mae: 45248.4453\n",
      "Epoch 88/100\n",
      "1022/1022 [==============================] - 0s 125us/sample - loss: 10955280107.4599 - mse: 10955281408.0000 - mae: 80175.5312 - val_loss: 3476110725.2603 - val_mse: 3476110848.0000 - val_mae: 43538.4648\n",
      "Epoch 89/100\n",
      "1022/1022 [==============================] - 0s 115us/sample - loss: 11088903157.9804 - mse: 11088904192.0000 - mae: 79836.6484 - val_loss: 3469129903.3425 - val_mse: 3469129984.0000 - val_mae: 43581.5117\n",
      "Epoch 90/100\n",
      "1022/1022 [==============================] - 0s 121us/sample - loss: 10621924975.2172 - mse: 10621924352.0000 - mae: 78595.2812 - val_loss: 3579317465.4247 - val_mse: 3579317504.0000 - val_mae: 44444.5625\n",
      "Epoch 91/100\n",
      "1022/1022 [==============================] - 0s 123us/sample - loss: 10592045194.2701 - mse: 10592044032.0000 - mae: 78917.5078 - val_loss: 3705982127.3425 - val_mse: 3705982208.0000 - val_mae: 45496.8945\n",
      "Epoch 92/100\n",
      "1022/1022 [==============================] - 0s 87us/sample - loss: 10925353627.3033 - mse: 10925352960.0000 - mae: 78904.3438 - val_loss: 3808746548.6027 - val_mse: 3808746752.0000 - val_mae: 46384.2109\n",
      "Epoch 93/100\n",
      "1022/1022 [==============================] - 0s 90us/sample - loss: 9988247902.6849 - mse: 9988247552.0000 - mae: 77581.7031 - val_loss: 3670316035.5068 - val_mse: 3670316032.0000 - val_mae: 45330.9023\n",
      "Epoch 94/100\n",
      "1022/1022 [==============================] - 0s 134us/sample - loss: 10062013153.4403 - mse: 10062013440.0000 - mae: 76987.9922 - val_loss: 3412892110.9041 - val_mse: 3412892160.0000 - val_mae: 43264.0508\n",
      "Epoch 95/100\n",
      "1022/1022 [==============================] - 0s 109us/sample - loss: 10521984577.1272 - mse: 10521984000.0000 - mae: 79322.6797 - val_loss: 3243828690.4110 - val_mse: 3243828736.0000 - val_mae: 42004.8438\n",
      "Epoch 96/100\n",
      "1022/1022 [==============================] - 0s 93us/sample - loss: 10687550445.9648 - mse: 10687550464.0000 - mae: 79600.1172 - val_loss: 3645104085.9178 - val_mse: 3645104128.0000 - val_mae: 45260.2305\n",
      "Epoch 97/100\n",
      "1022/1022 [==============================] - 0s 93us/sample - loss: 11296600292.4462 - mse: 11296601088.0000 - mae: 81431.5156 - val_loss: 3574542065.9726 - val_mse: 3574542080.0000 - val_mae: 44602.6641\n",
      "Epoch 98/100\n",
      "1022/1022 [==============================] - 0s 120us/sample - loss: 10857466172.6184 - mse: 10857465856.0000 - mae: 79601.4844 - val_loss: 3642204707.0685 - val_mse: 3642204672.0000 - val_mae: 45042.3633\n",
      "Epoch 99/100\n",
      "1022/1022 [==============================] - 0s 135us/sample - loss: 10975336512.1252 - mse: 10975337472.0000 - mae: 80808.5625 - val_loss: 3873825991.8904 - val_mse: 3873825792.0000 - val_mae: 46845.7461\n",
      "Epoch 100/100\n",
      "1022/1022 [==============================] - 0s 118us/sample - loss: 10825793664.2505 - mse: 10825794560.0000 - mae: 79786.1328 - val_loss: 3772620021.4795 - val_mse: 3772620288.0000 - val_mae: 46050.1523\n"
     ]
    }
   ],
   "source": [
    "history = train_model(\n",
    "    model=model,\n",
    "    train=train,\n",
    "    val=val,\n",
    "    label_col=LABEL,\n",
    "    seq_col='seq',\n",
    "    num_cols=all_features,\n",
    "    batch_size=model_params['batch_size'],\n",
    "    epochs=model_params['epochs']\n",
    ")"
   ]
  },
  {
   "cell_type": "markdown",
   "metadata": {},
   "source": [
    "The training loss is higher than the validation loss as dropout is activated when training but deactivated when evaluating on the validation set."
   ]
  },
  {
   "cell_type": "code",
   "execution_count": 34,
   "metadata": {},
   "outputs": [
    {
     "data": {
      "image/png": "[encoded data removed]",
      "text/plain": [
       "<Figure size 1080x576 with 1 Axes>"
      ]
     },
     "metadata": {},
     "output_type": "display_data"
    }
   ],
   "source": [
    "plot_loss(model_history=history)"
   ]
  },
  {
   "cell_type": "markdown",
   "metadata": {},
   "source": [
    "**Evaluation**"
   ]
  },
  {
   "cell_type": "code",
   "execution_count": 35,
   "metadata": {},
   "outputs": [],
   "source": [
    "preds = model.predict([\n",
    "        np.array(test['seq'].to_list()),\n",
    "        test[all_features]\n",
    "])"
   ]
  },
  {
   "cell_type": "code",
   "execution_count": 36,
   "metadata": {},
   "outputs": [
    {
     "name": "stdout",
     "output_type": "stream",
     "text": [
      "R^2: 0.1836\n",
      "Mean absolute error: 50972.0712\n",
      "Mean squared error: 5474491869.9309\n"
     ]
    }
   ],
   "source": [
    "metrics(y_true=test[LABEL], y_pred=preds.reshape(-1,))"
   ]
  },
  {
   "cell_type": "markdown",
   "metadata": {},
   "source": [
    "**Save model**"
   ]
  },
  {
   "cell_type": "code",
   "execution_count": 37,
   "metadata": {},
   "outputs": [
    {
     "name": "stdout",
     "output_type": "stream",
     "text": [
      "WARNING:tensorflow:From /opt/conda/lib/python3.7/site-packages/tensorflow_core/python/ops/resource_variable_ops.py:1786: calling BaseResourceVariable.__init__ (from tensorflow.python.ops.resource_variable_ops) with constraint is deprecated and will be removed in a future version.\n",
      "Instructions for updating:\n",
      "If using Keras pass *_constraint arguments to layers.\n",
      "INFO:tensorflow:Assets written to: artifacts/model/assets\n"
     ]
    }
   ],
   "source": [
    "tf.keras.models.save_model(model, KERAS_PATH)"
   ]
  },
  {
   "cell_type": "markdown",
   "metadata": {},
   "source": [
    "## Generate Predictions\n",
    "\n",
    "Note that this section relies on variables and functions from previous sections."
   ]
  },
  {
   "cell_type": "code",
   "execution_count": 38,
   "metadata": {},
   "outputs": [],
   "source": [
    "test_data = pd.read_csv(os.path.join(DATA_PATH, 'test.csv'), header=0)"
   ]
  },
  {
   "cell_type": "markdown",
   "metadata": {},
   "source": [
    "**Feature subset**"
   ]
  },
  {
   "cell_type": "code",
   "execution_count": 39,
   "metadata": {},
   "outputs": [
    {
     "name": "stdout",
     "output_type": "stream",
     "text": [
      "The shape of the prediction dataset after taking only a subset of features is 1459 rows and 35 columns.\n"
     ]
    }
   ],
   "source": [
    "test_data = test_data[feature_subset + ['Id']]\n",
    "print('The shape of the prediction dataset after taking only a subset of features is {} rows and {} columns.'.format(*test_data.shape))"
   ]
  },
  {
   "cell_type": "markdown",
   "metadata": {},
   "source": [
    "**Feature transformations**"
   ]
  },
  {
   "cell_type": "code",
   "execution_count": 40,
   "metadata": {},
   "outputs": [],
   "source": [
    "# load pickle files\n",
    "feature_maps = pickle_load(MAP_PATH)\n",
    "scalers = pickle_load(SCALER_PATH)\n",
    "tokenizer = pickle_load(TOKENIZER_PATH)"
   ]
  },
  {
   "cell_type": "code",
   "execution_count": 41,
   "metadata": {},
   "outputs": [],
   "source": [
    "# new features\n",
    "test_data['HasPool'] = test_data['PoolArea'].apply(lambda x: 1 if x > 0 else 0)\n",
    "del test_data['PoolArea']"
   ]
  },
  {
   "cell_type": "code",
   "execution_count": 42,
   "metadata": {},
   "outputs": [],
   "source": [
    "# imputation\n",
    "test_data = test_data.fillna(value=values_na)"
   ]
  },
  {
   "cell_type": "code",
   "execution_count": 43,
   "metadata": {},
   "outputs": [],
   "source": [
    "# boolean transformation\n",
    "test_data['CentralAir'] = test_data['CentralAir'].apply(lambda x: 1 if x == 'Y' else 0)"
   ]
  },
  {
   "cell_type": "code",
   "execution_count": 44,
   "metadata": {},
   "outputs": [
    {
     "data": {
      "text/html": [
       "<div>\n",
       "<style scoped>\n",
       "    .dataframe tbody tr th:only-of-type {\n",
       "        vertical-align: middle;\n",
       "    }\n",
       "\n",
       "    .dataframe tbody tr th {\n",
       "        vertical-align: top;\n",
       "    }\n",
       "\n",
       "    .dataframe thead th {\n",
       "        text-align: right;\n",
       "    }\n",
       "</style>\n",
       "<table border=\"1\" class=\"dataframe\">\n",
       "  <thead>\n",
       "    <tr style=\"text-align: right;\">\n",
       "      <th></th>\n",
       "      <th>emb_text</th>\n",
       "      <th>seq</th>\n",
       "    </tr>\n",
       "  </thead>\n",
       "  <tbody>\n",
       "    <tr>\n",
       "      <th>0</th>\n",
       "      <td>names 1fam feedr vinylsd inside</td>\n",
       "      <td>[0, 6, 2, 18, 4, 3]</td>\n",
       "    </tr>\n",
       "    <tr>\n",
       "      <th>1</th>\n",
       "      <td>names 1fam norm wd sdng corner</td>\n",
       "      <td>[6, 2, 1, 9, 10, 5]</td>\n",
       "    </tr>\n",
       "    <tr>\n",
       "      <th>2</th>\n",
       "      <td>gilbert 1fam norm vinylsd inside</td>\n",
       "      <td>[0, 19, 2, 1, 4, 3]</td>\n",
       "    </tr>\n",
       "  </tbody>\n",
       "</table>\n",
       "</div>"
      ],
      "text/plain": [
       "                           emb_text                  seq\n",
       "0   names 1fam feedr vinylsd inside  [0, 6, 2, 18, 4, 3]\n",
       "1    names 1fam norm wd sdng corner  [6, 2, 1, 9, 10, 5]\n",
       "2  gilbert 1fam norm vinylsd inside  [0, 19, 2, 1, 4, 3]"
      ]
     },
     "metadata": {},
     "output_type": "display_data"
    }
   ],
   "source": [
    "# prepare embedding text\n",
    "test_data[EMB_TEXT] = test_data.apply(lambda x: prepare_emb_text(x, emb_features), axis=1)\n",
    "\n",
    "# encode sequence\n",
    "test_sequences = tokenizer.texts_to_sequences(test_data[EMB_TEXT].values)\n",
    "\n",
    "# pad sequences so that they are all of equal length (MAX_SEQUENCE_LENGTH)\n",
    "test_emb_texts = pad_sequences(test_sequences, maxlen=MAX_SEQUENCE_LENGTH)\n",
    "test_data['seq'] = test_emb_texts.tolist()\n",
    "display(test_data[[EMB_TEXT, 'seq']].head(3))"
   ]
  },
  {
   "cell_type": "code",
   "execution_count": 45,
   "metadata": {},
   "outputs": [
    {
     "data": {
      "text/html": [
       "<div>\n",
       "<style scoped>\n",
       "    .dataframe tbody tr th:only-of-type {\n",
       "        vertical-align: middle;\n",
       "    }\n",
       "\n",
       "    .dataframe tbody tr th {\n",
       "        vertical-align: top;\n",
       "    }\n",
       "\n",
       "    .dataframe thead th {\n",
       "        text-align: right;\n",
       "    }\n",
       "</style>\n",
       "<table border=\"1\" class=\"dataframe\">\n",
       "  <thead>\n",
       "    <tr style=\"text-align: right;\">\n",
       "      <th></th>\n",
       "      <th>MSSubClass</th>\n",
       "      <th>LotFrontage</th>\n",
       "      <th>LotArea</th>\n",
       "      <th>LotShape</th>\n",
       "      <th>LandContour</th>\n",
       "      <th>LotConfig</th>\n",
       "      <th>Neighborhood</th>\n",
       "      <th>Condition1</th>\n",
       "      <th>BldgType</th>\n",
       "      <th>HouseStyle</th>\n",
       "      <th>...</th>\n",
       "      <th>GarageArea</th>\n",
       "      <th>PavedDrive</th>\n",
       "      <th>YrSold</th>\n",
       "      <th>MoSold</th>\n",
       "      <th>SaleType</th>\n",
       "      <th>SaleCondition</th>\n",
       "      <th>Id</th>\n",
       "      <th>HasPool</th>\n",
       "      <th>emb_text</th>\n",
       "      <th>seq</th>\n",
       "    </tr>\n",
       "  </thead>\n",
       "  <tbody>\n",
       "    <tr>\n",
       "      <th>1358</th>\n",
       "      <td>150</td>\n",
       "      <td>0.0</td>\n",
       "      <td>1700</td>\n",
       "      <td>Reg</td>\n",
       "      <td>HLS</td>\n",
       "      <td>Inside</td>\n",
       "      <td>ClearCr</td>\n",
       "      <td>Norm</td>\n",
       "      <td>Twnhs</td>\n",
       "      <td>1.5Fin</td>\n",
       "      <td>...</td>\n",
       "      <td>450.0</td>\n",
       "      <td>Y</td>\n",
       "      <td>2006</td>\n",
       "      <td>4</td>\n",
       "      <td>WD</td>\n",
       "      <td>Normal</td>\n",
       "      <td>2819</td>\n",
       "      <td>0</td>\n",
       "      <td>clearcr twnhs norm vinylsd inside</td>\n",
       "      <td>[0, 37, 32, 1, 4, 3]</td>\n",
       "    </tr>\n",
       "  </tbody>\n",
       "</table>\n",
       "<p>1 rows × 37 columns</p>\n",
       "</div>"
      ],
      "text/plain": [
       "      MSSubClass  LotFrontage  LotArea LotShape LandContour LotConfig  \\\n",
       "1358         150          0.0     1700      Reg         HLS    Inside   \n",
       "\n",
       "     Neighborhood Condition1 BldgType HouseStyle  ...  GarageArea  PavedDrive  \\\n",
       "1358      ClearCr       Norm    Twnhs     1.5Fin  ...       450.0           Y   \n",
       "\n",
       "      YrSold MoSold SaleType SaleCondition    Id  HasPool  \\\n",
       "1358    2006      4       WD        Normal  2819        0   \n",
       "\n",
       "                               emb_text                   seq  \n",
       "1358  clearcr twnhs norm vinylsd inside  [0, 37, 32, 1, 4, 3]  \n",
       "\n",
       "[1 rows x 37 columns]"
      ]
     },
     "execution_count": 45,
     "metadata": {},
     "output_type": "execute_result"
    }
   ],
   "source": [
    "test_data[test_data['MSSubClass'] == 150]"
   ]
  },
  {
   "cell_type": "code",
   "execution_count": 46,
   "metadata": {},
   "outputs": [
    {
     "name": "stdout",
     "output_type": "stream",
     "text": [
      "[INFO] Mapping: MSSubClass\n",
      "[INFO] Mapping: LotShape\n",
      "[INFO] Mapping: LandContour\n",
      "[INFO] Mapping: LotConfig\n",
      "[INFO] Mapping: Neighborhood\n",
      "[INFO] Mapping: Condition1\n",
      "[INFO] Mapping: BldgType\n",
      "[INFO] Mapping: HouseStyle\n",
      "[INFO] Mapping: OverallQual\n",
      "[INFO] Mapping: YearBuilt\n",
      "[INFO] Mapping: YearRemodAdd\n",
      "[INFO] Mapping: Exterior1st\n",
      "[INFO] Mapping: ExterQual\n",
      "[INFO] Mapping: Foundation\n",
      "[INFO] Mapping: HeatingQC\n",
      "[INFO] Mapping: KitchenQual\n",
      "[INFO] Mapping: PavedDrive\n",
      "[INFO] Mapping: YrSold\n",
      "[INFO] Mapping: MoSold\n",
      "[INFO] Mapping: SaleType\n",
      "[INFO] Mapping: SaleCondition\n"
     ]
    }
   ],
   "source": [
    "# 'UNK' will always be encoded to 0\n",
    "def map_features(df, cat_feats, feature_maps):\n",
    "    for field in cat_feats:\n",
    "        print('[INFO] Mapping: {}'.format(field))\n",
    "        df[field] = df[field].map(lambda x: feature_maps[field].get(x, 0))\n",
    "    return df\n",
    "\n",
    "test_data = map_features(test_data, cat_features, feature_maps)"
   ]
  },
  {
   "cell_type": "code",
   "execution_count": 47,
   "metadata": {},
   "outputs": [],
   "source": [
    "# scale features\n",
    "test_data, _ = scale_features(test_data, cont_features, train=False, scalers=scalers)"
   ]
  },
  {
   "cell_type": "markdown",
   "metadata": {},
   "source": [
    "**Generate predictions**"
   ]
  },
  {
   "cell_type": "code",
   "execution_count": 48,
   "metadata": {},
   "outputs": [
    {
     "name": "stdout",
     "output_type": "stream",
     "text": [
      "Model: \"model\"\n",
      "__________________________________________________________________________________________________\n",
      "Layer (type)                    Output Shape         Param #     Connected to                     \n",
      "==================================================================================================\n",
      "text_sequence (InputLayer)      [(None, 6)]          0                                            \n",
      "__________________________________________________________________________________________________\n",
      "embedding_layer (Embedding)     (None, 6, 2)         122         text_sequence[0][0]              \n",
      "__________________________________________________________________________________________________\n",
      "flatten_embedded_output (Flatte (None, 12)           0           embedding_layer[0][0]            \n",
      "__________________________________________________________________________________________________\n",
      "numerical_features (InputLayer) [(None, 34)]         0                                            \n",
      "__________________________________________________________________________________________________\n",
      "concatenate_embedding_numeric ( (None, 46)           0           flatten_embedded_output[0][0]    \n",
      "                                                                 numerical_features[0][0]         \n",
      "__________________________________________________________________________________________________\n",
      "first_dense_layer (Dense)       (None, 16)           752         concatenate_embedding_numeric[0][\n",
      "__________________________________________________________________________________________________\n",
      "first_dropout_layer (Dropout)   (None, 16)           0           first_dense_layer[0][0]          \n",
      "__________________________________________________________________________________________________\n",
      "second_dense_layer (Dense)      (None, 8)            136         first_dropout_layer[0][0]        \n",
      "__________________________________________________________________________________________________\n",
      "second_dropout_layer (Dropout)  (None, 8)            0           second_dense_layer[0][0]         \n",
      "__________________________________________________________________________________________________\n",
      "output_layer (Dense)            (None, 1)            9           second_dropout_layer[0][0]       \n",
      "==================================================================================================\n",
      "Total params: 1,019\n",
      "Trainable params: 1,019\n",
      "Non-trainable params: 0\n",
      "__________________________________________________________________________________________________\n",
      "None\n"
     ]
    }
   ],
   "source": [
    "# load model\n",
    "reg_model = tf.keras.models.load_model(KERAS_PATH)\n",
    "print(reg_model.summary())"
   ]
  },
  {
   "cell_type": "code",
   "execution_count": 49,
   "metadata": {},
   "outputs": [],
   "source": [
    "# generate predictions\n",
    "predictions = reg_model.predict([\n",
    "        np.array(test_data['seq'].to_list()),\n",
    "        test_data[all_features]\n",
    "])"
   ]
  },
  {
   "cell_type": "code",
   "execution_count": 50,
   "metadata": {},
   "outputs": [
    {
     "name": "stdout",
     "output_type": "stream",
     "text": [
      "[INFO] Minimum prediction: 46495.7421875\n",
      "[INFO] Maximum prediction: 308891.6875\n",
      "[INFO] Mean prediction: 135044.40625\n",
      "[INFO] Standard deviation of predictions: 48814.0234375\n"
     ]
    }
   ],
   "source": [
    "print('[INFO] Minimum prediction: {}'.format(predictions.min()))\n",
    "print('[INFO] Maximum prediction: {}'.format(predictions.max()))\n",
    "print('[INFO] Mean prediction: {}'.format(predictions.mean()))\n",
    "print('[INFO] Standard deviation of predictions: {}'.format(predictions.std()))"
   ]
  },
  {
   "cell_type": "code",
   "execution_count": 51,
   "metadata": {},
   "outputs": [
    {
     "name": "stdout",
     "output_type": "stream",
     "text": [
      "Example prediction for ID 1461: $108563.36\n"
     ]
    }
   ],
   "source": [
    "# create dictionary of predictions where key is the house ID\n",
    "predictions_dict = dict(zip(test_data['Id'].values, predictions.reshape(-1,)))\n",
    "print('Example prediction for ID {}: ${:.2f}'.format(1461, predictions_dict[1461]))"
   ]
  },
  {
   "cell_type": "code",
   "execution_count": 52,
   "metadata": {},
   "outputs": [],
   "source": [
    "# save predictions as pickle\n",
    "PREDICTION_PATH = 'predictions.pkl'\n",
    "pickle_dump(PREDICTION_PATH, predictions_dict)"
   ]
  },
  {
   "cell_type": "code",
   "execution_count": 54,
   "metadata": {},
   "outputs": [
    {
     "name": "stdout",
     "output_type": "stream",
     "text": [
      "Copying file://predictions.pkl [Content-Type=application/octet-stream]...\n",
      "/ [1 files][ 82.1 KiB/ 82.1 KiB]                                                \n",
      "Operation completed over 1 objects/82.1 KiB.                                     \n",
      "Copying file://artifacts/model/saved_model.pb [Content-Type=application/octet-stream]...\n",
      "Copying file://artifacts/model/variables/variables.index [Content-Type=application/octet-stream]...\n",
      "Copying file://artifacts/model/variables/variables.data-00000-of-00001 [Content-Type=application/octet-stream]...\n",
      "/ [3/3 files][180.7 KiB/180.7 KiB] 100% Done                                    \n",
      "Operation completed over 3 objects/180.7 KiB.                                    \n",
      "Copying file://artifacts/feature_maps.pkl [Content-Type=application/octet-stream]...\n",
      "Copying file://artifacts/scaler.pkl [Content-Type=application/octet-stream]...  \n",
      "Copying file://artifacts/tokenizer.pkl [Content-Type=application/octet-stream]...\n",
      "/ [3 files][ 14.7 KiB/ 14.7 KiB]                                                \n",
      "Operation completed over 3 objects/14.7 KiB.                                     \n"
     ]
    }
   ],
   "source": [
    "# ! gsutil cp predictions.pkl gs://laxmi-prajapat-sandbox/house-prices-regression/\n",
    "# ! gsutil -m cp -r artifacts/model gs://laxmi-prajapat-sandbox/house-prices-regression/model\n",
    "# ! gsutil cp artifacts/*.pkl gs://laxmi-prajapat-sandbox/house-prices-regression/artifacts"
   ]
  }
 ],
 "metadata": {
  "kernelspec": {
   "display_name": "Python 3",
   "language": "python",
   "name": "python3"
  },
  "language_info": {
   "codemirror_mode": {
    "name": "ipython",
    "version": 3
   },
   "file_extension": ".py",
   "mimetype": "text/x-python",
   "name": "python",
   "nbconvert_exporter": "python",
   "pygments_lexer": "ipython3",
   "version": "3.7.6"
  }
 },
 "nbformat": 4,
 "nbformat_minor": 4
}
